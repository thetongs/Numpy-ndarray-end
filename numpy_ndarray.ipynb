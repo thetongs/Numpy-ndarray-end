{
 "cells": [
  {
   "cell_type": "code",
   "execution_count": 3,
   "metadata": {},
   "outputs": [],
   "source": [
    "import numpy as np"
   ]
  },
  {
   "cell_type": "markdown",
   "metadata": {},
   "source": [
    "# ND array"
   ]
  },
  {
   "cell_type": "markdown",
   "metadata": {},
   "source": [
    "### 1.1 Create ndarray"
   ]
  },
  {
   "cell_type": "code",
   "execution_count": 4,
   "metadata": {},
   "outputs": [
    {
     "name": "stdout",
     "output_type": "stream",
     "text": [
      "[[1 2 3 4]\n",
      " [1 2 3 4]]\n"
     ]
    }
   ],
   "source": [
    "l = [1,2,3,4]\n",
    "arr2 = np.array([l, l])  \n",
    "print(arr2)"
   ]
  },
  {
   "cell_type": "code",
   "execution_count": 6,
   "metadata": {},
   "outputs": [
    {
     "name": "stdout",
     "output_type": "stream",
     "text": [
      "[[1. 0. 0. 0.]\n",
      " [0. 1. 0. 0.]\n",
      " [0. 0. 1. 0.]\n",
      " [0. 0. 0. 1.]]\n"
     ]
    }
   ],
   "source": [
    "eye_arr = np.eye(4) \n",
    "print(eye_arr)"
   ]
  },
  {
   "cell_type": "code",
   "execution_count": 7,
   "metadata": {},
   "outputs": [
    {
     "name": "stdout",
     "output_type": "stream",
     "text": [
      "Method 1.\n",
      "[[0. 0. 0. 0.]\n",
      " [0. 0. 0. 0.]\n",
      " [0. 0. 0. 0.]\n",
      " [0. 0. 0. 0.]]\n",
      "Method 2.\n",
      "[0. 0. 0. 0.]\n"
     ]
    }
   ],
   "source": [
    "z_arr = 0 * eye_arr\n",
    "print(\"Method 1.\")\n",
    "print(z_arr)\n",
    "z_arr = np.zeros(4)\n",
    "print(\"Method 2.\")\n",
    "print(z_arr)"
   ]
  },
  {
   "cell_type": "code",
   "execution_count": 8,
   "metadata": {},
   "outputs": [
    {
     "name": "stdout",
     "output_type": "stream",
     "text": [
      "[[0. 0. 0. 0. 0. 0.]\n",
      " [0. 0. 0. 0. 0. 0.]\n",
      " [0. 0. 0. 0. 0. 0.]\n",
      " [0. 0. 0. 0. 0. 0.]]\n"
     ]
    }
   ],
   "source": [
    "z_arr = np.zeros(shape = (4, 6))\n",
    "print(z_arr)"
   ]
  },
  {
   "cell_type": "code",
   "execution_count": 14,
   "metadata": {},
   "outputs": [
    {
     "name": "stdout",
     "output_type": "stream",
     "text": [
      "[1. 1. 1. 1.] \n",
      "\n",
      "[[1. 1. 1. 1. 1. 1.]\n",
      " [1. 1. 1. 1. 1. 1.]\n",
      " [1. 1. 1. 1. 1. 1.]\n",
      " [1. 1. 1. 1. 1. 1.]]\n"
     ]
    }
   ],
   "source": [
    "arr1 = np.ones(4)\n",
    "print(\"{} \\n\".format(arr1))\n",
    "arr1 = np.ones(shape = (4, 6)) \n",
    "print(arr1)"
   ]
  },
  {
   "cell_type": "code",
   "execution_count": 15,
   "metadata": {},
   "outputs": [
    {
     "name": "stdout",
     "output_type": "stream",
     "text": [
      "[ 0. 10.]\n"
     ]
    }
   ],
   "source": [
    "parti = np.linspace(0, 10, 2)     # 0 and 10 range and 2 as partition\n",
    "print(parti)"
   ]
  },
  {
   "cell_type": "code",
   "execution_count": 17,
   "metadata": {},
   "outputs": [
    {
     "name": "stdout",
     "output_type": "stream",
     "text": [
      "[[0.13268895 0.3792458  0.97723074]\n",
      " [0.43176198 0.89940174 0.26901725]]\n"
     ]
    }
   ],
   "source": [
    "rarr = np.random.rand(2, 3)     # 2 rows 3 columns\n",
    "print(rarr) "
   ]
  },
  {
   "cell_type": "code",
   "execution_count": 18,
   "metadata": {},
   "outputs": [
    {
     "name": "stdout",
     "output_type": "stream",
     "text": [
      "[[[0.93359548 0.30174476 0.93293087 0.05146246 0.82322527 0.61231597]\n",
      "  [0.21993802 0.83803218 0.9477284  0.84694259 0.79870992 0.14869881]]\n",
      "\n",
      " [[0.81632957 0.61737176 0.41048832 0.70148034 0.70072815 0.58934062]\n",
      "  [0.47876072 0.6060743  0.17325708 0.73837366 0.65287991 0.46022502]]]\n"
     ]
    }
   ],
   "source": [
    "rarr = np.random.rand(2, 2, 6)    # 2- 2 times, 2 - rows each time, 6 - columns each time\n",
    "print(rarr)"
   ]
  },
  {
   "cell_type": "code",
   "execution_count": 19,
   "metadata": {},
   "outputs": [
    {
     "name": "stdout",
     "output_type": "stream",
     "text": [
      "[[-3.31376074 -0.53465566  0.14827223]\n",
      " [-1.64165757 -0.50196518 -2.57853175]]\n"
     ]
    }
   ],
   "source": [
    "rarr = np.random.randn(2,3)  # 2 rows 3 columns\n",
    "print(rarr)"
   ]
  },
  {
   "cell_type": "code",
   "execution_count": 20,
   "metadata": {},
   "outputs": [
    {
     "name": "stdout",
     "output_type": "stream",
     "text": [
      "15\n"
     ]
    }
   ],
   "source": [
    "n = np.random.randint(10, 20)\n",
    "print(n)"
   ]
  },
  {
   "cell_type": "code",
   "execution_count": null,
   "metadata": {},
   "outputs": [],
   "source": []
  },
  {
   "cell_type": "markdown",
   "metadata": {},
   "source": [
    "### 1.2 Functions / Features"
   ]
  },
  {
   "cell_type": "code",
   "execution_count": 21,
   "metadata": {},
   "outputs": [
    {
     "name": "stdout",
     "output_type": "stream",
     "text": [
      "[[1 2 3 4]\n",
      " [1 2 3 4]]\n"
     ]
    }
   ],
   "source": [
    "l = [1,2,3,4]\n",
    "arr2 = np.array([l, l])  \n",
    "print(arr2)"
   ]
  },
  {
   "cell_type": "code",
   "execution_count": 22,
   "metadata": {},
   "outputs": [
    {
     "name": "stdout",
     "output_type": "stream",
     "text": [
      "<class 'numpy.ndarray'>\n"
     ]
    }
   ],
   "source": [
    "print(type(arr2))"
   ]
  },
  {
   "cell_type": "code",
   "execution_count": 24,
   "metadata": {},
   "outputs": [
    {
     "name": "stdout",
     "output_type": "stream",
     "text": [
      "8\n"
     ]
    }
   ],
   "source": [
    "print(arr2.size)"
   ]
  },
  {
   "cell_type": "code",
   "execution_count": 25,
   "metadata": {},
   "outputs": [
    {
     "name": "stdout",
     "output_type": "stream",
     "text": [
      "(2, 4)\n"
     ]
    }
   ],
   "source": [
    "print(arr2.shape)"
   ]
  },
  {
   "cell_type": "code",
   "execution_count": 26,
   "metadata": {},
   "outputs": [
    {
     "name": "stdout",
     "output_type": "stream",
     "text": [
      "[[ 0.66636048 -0.02533113 -1.40643754]\n",
      " [ 0.2326001  -0.43359651  1.64041996]]\n",
      "[[ 0.66636048 -0.02533113]\n",
      " [-1.40643754  0.2326001 ]\n",
      " [-0.43359651  1.64041996]]\n"
     ]
    }
   ],
   "source": [
    "rarr = np.random.randn(2,3)\n",
    "print(rarr)\n",
    "rarr = rarr.reshape(3,2)\n",
    "print(rarr)"
   ]
  },
  {
   "cell_type": "code",
   "execution_count": 27,
   "metadata": {},
   "outputs": [
    {
     "name": "stdout",
     "output_type": "stream",
     "text": [
      "[False False False False False False  True  True  True  True  True  True\n",
      "  True  True  True  True  True  True  True  True]\n"
     ]
    }
   ],
   "source": [
    "arr = np.arange(50,70)\n",
    "arr_tf = arr > 55   \n",
    "print(arr_tf)"
   ]
  },
  {
   "cell_type": "code",
   "execution_count": 28,
   "metadata": {},
   "outputs": [
    {
     "name": "stdout",
     "output_type": "stream",
     "text": [
      "14\n"
     ]
    }
   ],
   "source": [
    "arr = np.arange(50,70)\n",
    "arr_tf = arr > 55            # bool type array\n",
    "print(sum(arr_tf))           # Count true value"
   ]
  },
  {
   "cell_type": "code",
   "execution_count": 29,
   "metadata": {},
   "outputs": [
    {
     "name": "stdout",
     "output_type": "stream",
     "text": [
      "[150 151 152 153 154 155 156 157 158 159 160 161 162 163 164 165 166 167\n",
      " 168 169]\n"
     ]
    }
   ],
   "source": [
    "arr = np.arange(50,70)\n",
    "arr_tf = arr + 100            # Add number to every element of array\n",
    "print(arr_tf)"
   ]
  },
  {
   "cell_type": "code",
   "execution_count": 30,
   "metadata": {},
   "outputs": [
    {
     "name": "stdout",
     "output_type": "stream",
     "text": [
      "[[0.55991644 0.27478449 0.96966904 0.40539089 0.75953401]\n",
      " [0.29300584 0.10977476 0.81377368 0.33681009 0.10271154]\n",
      " [0.40730825 0.49687608 0.3347278  0.87544788 0.21004177]\n",
      " [0.17118842 0.06901389 0.46413687 0.32260211 0.76318928]\n",
      " [0.61312786 0.78820527 0.09340112 0.75037634 0.67852645]]\n",
      "[[0.84729949 0.9624837  0.56557251 0.91894831 0.72515696]\n",
      " [0.95738002 0.9939808  0.6867603  0.94381366 0.99472981]\n",
      " [0.91819046 0.87907597 0.94449977 0.64065303 0.97802221]\n",
      " [0.98538301 0.99761949 0.89420828 0.94841367 0.72263516]\n",
      " [0.81785216 0.70511907 0.99564129 0.73143229 0.77849844]]\n"
     ]
    }
   ],
   "source": [
    "mat = np.random.rand(5,5)\n",
    "print(mat)\n",
    "print(np.cos(mat))"
   ]
  },
  {
   "cell_type": "code",
   "execution_count": 31,
   "metadata": {},
   "outputs": [
    {
     "name": "stdout",
     "output_type": "stream",
     "text": [
      "[50 51 52 53 54 55 56 57 58 59 60 61 62 63 64 65 66 67 68 69]\n",
      "59.5\n"
     ]
    }
   ],
   "source": [
    "arr = np.arange(50,70)\n",
    "print(arr)\n",
    "print(np.mean(arr))"
   ]
  },
  {
   "cell_type": "code",
   "execution_count": 32,
   "metadata": {},
   "outputs": [
    {
     "name": "stdout",
     "output_type": "stream",
     "text": [
      "[[0.88103263 0.80877332 0.51056573]\n",
      " [0.32435539 0.873825   0.74331112]\n",
      " [0.49411396 0.13230176 0.70306683]]\n",
      "[[0.4606678  0.66653312 0.19548971]\n",
      " [0.54871942 0.41168687 0.94390574]\n",
      " [0.88760677 0.6787935  0.68182272]]\n",
      "[[0.88103263 0.80877332 0.51056573 0.4606678  0.66653312 0.19548971]\n",
      " [0.32435539 0.873825   0.74331112 0.54871942 0.41168687 0.94390574]\n",
      " [0.49411396 0.13230176 0.70306683 0.88760677 0.6787935  0.68182272]]\n",
      "[[0.88103263 0.80877332 0.51056573]\n",
      " [0.32435539 0.873825   0.74331112]\n",
      " [0.49411396 0.13230176 0.70306683]\n",
      " [0.4606678  0.66653312 0.19548971]\n",
      " [0.54871942 0.41168687 0.94390574]\n",
      " [0.88760677 0.6787935  0.68182272]]\n"
     ]
    }
   ],
   "source": [
    "arr1 = np.random.random(size = (3,3))\n",
    "arr2 = np.random.random(size = (3,3))\n",
    "print(arr1)\n",
    "print(arr2)\n",
    "\n",
    "# Put array 2 on right side of arr1 - Horizontal stacking - rows of both matrix should be same.\n",
    "n_arr = np.hstack((arr1, arr2))\n",
    "print(n_arr)\n",
    "\n",
    "# Put array 2 on below of array 1 - Vertical stacking - columns of both matrix should be same.\n",
    "n1_arr = np.vstack((arr1, arr2))\n",
    "print(n1_arr)"
   ]
  },
  {
   "cell_type": "code",
   "execution_count": 33,
   "metadata": {},
   "outputs": [
    {
     "name": "stdout",
     "output_type": "stream",
     "text": [
      "[[0.37325168 2.88190338 2.36440597]\n",
      " [4.82453891 0.82538462 6.82156315]\n",
      " [8.33901387 2.9853793  9.70761134]]\n",
      "[[7.15661389 8.0063262  0.30620694]\n",
      " [0.47458588 7.35289901 9.79167362]\n",
      " [1.38347172 6.59701355 9.51156509]]\n",
      "[[0. 2. 2.]\n",
      " [4. 0. 6.]\n",
      " [8. 2. 9.]]\n",
      "[[ 8.  9.  1.]\n",
      " [ 1.  8. 10.]\n",
      " [ 2.  7. 10.]]\n"
     ]
    }
   ],
   "source": [
    "arr1 = np.random.random(size = (3,3))\n",
    "arr2 = np.random.random(size = (3,3))\n",
    "arr1 = arr1 * 10\n",
    "arr2 = arr2 * 10\n",
    "print(arr1)\n",
    "print(arr2)\n",
    "# Floor\n",
    "print(np.floor(arr1))\n",
    "print(np.ceil(arr2))"
   ]
  },
  {
   "cell_type": "code",
   "execution_count": 34,
   "metadata": {},
   "outputs": [
    {
     "name": "stdout",
     "output_type": "stream",
     "text": [
      "56.81123250957403\n"
     ]
    }
   ],
   "source": [
    "import numpy as np\n",
    "arr1 = np.random.random(size = (3,3))\n",
    "arr1 = arr1 * 10\n",
    "print(np.sum(arr1))"
   ]
  },
  {
   "cell_type": "code",
   "execution_count": 35,
   "metadata": {},
   "outputs": [
    {
     "name": "stdout",
     "output_type": "stream",
     "text": [
      "[ 4.53850763 15.38624639 17.075666  ]\n"
     ]
    }
   ],
   "source": [
    "arr1 = np.random.random(size = (3,3))\n",
    "arr1 = arr1 * 10\n",
    "print(np.sum(arr1, axis = 0))"
   ]
  },
  {
   "cell_type": "code",
   "execution_count": 42,
   "metadata": {},
   "outputs": [
    {
     "name": "stdout",
     "output_type": "stream",
     "text": [
      "[15.22931903 10.97524637 16.53597842]\n"
     ]
    }
   ],
   "source": [
    "arr1 = np.random.random(size = (3,3))\n",
    "arr1 = arr1 * 10\n",
    "print(np.sum(arr1, axis = 1))"
   ]
  },
  {
   "cell_type": "code",
   "execution_count": 37,
   "metadata": {},
   "outputs": [
    {
     "name": "stdout",
     "output_type": "stream",
     "text": [
      "[6.73397758 3.79774705 4.22191203]\n"
     ]
    }
   ],
   "source": [
    "# This axis =0 or 1 work with most of other functions too\n",
    "arr1 = np.random.random(size = (3,3))\n",
    "arr1 = arr1 * 10\n",
    "print(np.mean(arr1, axis = 0))"
   ]
  },
  {
   "cell_type": "code",
   "execution_count": 38,
   "metadata": {},
   "outputs": [
    {
     "name": "stdout",
     "output_type": "stream",
     "text": [
      "[5.14536363 5.79923475 6.27114023]\n"
     ]
    }
   ],
   "source": [
    "arr1 = np.random.random(size = (3,3))\n",
    "arr1 = arr1 * 10\n",
    "print(np.mean(arr1, axis = 1))"
   ]
  },
  {
   "cell_type": "code",
   "execution_count": 39,
   "metadata": {},
   "outputs": [
    {
     "name": "stdout",
     "output_type": "stream",
     "text": [
      "[ 1.1752092   4.96005173 10.60865516 17.96664165 21.01785642 28.08961494\n",
      " 31.30769453 39.05679667 44.83065657]\n"
     ]
    }
   ],
   "source": [
    "# Cummulative sum\n",
    "arr1 = np.random.random(size = (3,3))\n",
    "arr1 = arr1 * 10\n",
    "print(np.cumsum(arr1))"
   ]
  },
  {
   "cell_type": "code",
   "execution_count": 40,
   "metadata": {},
   "outputs": [
    {
     "name": "stdout",
     "output_type": "stream",
     "text": [
      "[9.32848717e+00 6.73320661e+01 2.60433334e+01 1.36239249e+02\n",
      " 3.64220042e+02 3.26300233e+03 5.30658449e+03 3.91954465e+04\n",
      " 5.79615417e+04]\n"
     ]
    }
   ],
   "source": [
    "# Cummulative product\n",
    "arr1 = np.random.random(size = (3,3))\n",
    "arr1 = arr1 * 10\n",
    "print(np.cumproduct(arr1))"
   ]
  },
  {
   "cell_type": "code",
   "execution_count": 41,
   "metadata": {},
   "outputs": [
    {
     "name": "stdout",
     "output_type": "stream",
     "text": [
      "[0. 1. 2. 3. 4. 5. 8. 9.]\n"
     ]
    }
   ],
   "source": [
    "# unique values\n",
    "arr1 = np.random.random(size = (3,3))\n",
    "arr1 = arr1 * 10\n",
    "arr1 = np.floor(arr1)\n",
    "print(np.unique(arr1))"
   ]
  },
  {
   "cell_type": "code",
   "execution_count": 43,
   "metadata": {},
   "outputs": [
    {
     "name": "stdout",
     "output_type": "stream",
     "text": [
      "[[2. 7. 4.]\n",
      " [1. 2. 9.]\n",
      " [9. 8. 0.]]\n",
      "0.0\n"
     ]
    }
   ],
   "source": [
    "# Min \n",
    "arr1 = np.random.random(size = (3,3))\n",
    "arr1 = arr1 * 10\n",
    "arr1 = np.floor(arr1)\n",
    "n = np.min(arr1)\n",
    "print(arr1)\n",
    "print(n)"
   ]
  },
  {
   "cell_type": "code",
   "execution_count": 44,
   "metadata": {},
   "outputs": [
    {
     "name": "stdout",
     "output_type": "stream",
     "text": [
      "[[7. 6. 1.]\n",
      " [2. 3. 2.]\n",
      " [1. 6. 7.]]\n",
      "7.0\n"
     ]
    }
   ],
   "source": [
    "# Max\n",
    "arr1 = np.random.random(size = (3,3))\n",
    "arr1 = arr1 * 10\n",
    "arr1 = np.floor(arr1)\n",
    "n = np.max(arr1)\n",
    "print(arr1)\n",
    "print(n)"
   ]
  },
  {
   "cell_type": "code",
   "execution_count": 45,
   "metadata": {},
   "outputs": [
    {
     "name": "stdout",
     "output_type": "stream",
     "text": [
      "[[1. 3. 5.]\n",
      " [0. 4. 0.]\n",
      " [9. 2. 2.]]\n",
      "[9. 4. 5.]\n"
     ]
    }
   ],
   "source": [
    "# Max as columns\n",
    "arr1 = np.random.random(size = (3,3))\n",
    "arr1 = arr1 * 10\n",
    "arr1 = np.floor(arr1)\n",
    "n = np.max(arr1, axis = 0)\n",
    "print(arr1)\n",
    "print(n)"
   ]
  },
  {
   "cell_type": "code",
   "execution_count": 46,
   "metadata": {},
   "outputs": [
    {
     "name": "stdout",
     "output_type": "stream",
     "text": [
      "[[4. 9. 4.]\n",
      " [5. 9. 3.]\n",
      " [7. 1. 0.]]\n",
      "[9. 9. 7.]\n"
     ]
    }
   ],
   "source": [
    "# Max as rowwise\n",
    "# 0 is for column\n",
    "# 1 is for rows in term of axis =\n",
    "arr1 = np.random.random(size = (3,3))\n",
    "arr1 = arr1 * 10\n",
    "arr1 = np.floor(arr1)\n",
    "n = np.max(arr1, axis = 1)\n",
    "print(arr1)\n",
    "print(n)"
   ]
  },
  {
   "cell_type": "code",
   "execution_count": 47,
   "metadata": {},
   "outputs": [
    {
     "name": "stdout",
     "output_type": "stream",
     "text": [
      "1\n",
      "2\n",
      "3\n",
      "4\n",
      "5\n",
      "6\n",
      "7\n",
      "8\n",
      "9\n"
     ]
    }
   ],
   "source": [
    "# Enumerate through vector\n",
    "arr = np.arange(1, 10)\n",
    "for item in arr:\n",
    "    print(item)"
   ]
  },
  {
   "cell_type": "code",
   "execution_count": 48,
   "metadata": {},
   "outputs": [
    {
     "name": "stdout",
     "output_type": "stream",
     "text": [
      "0 12\n",
      "1 13\n",
      "2 14\n",
      "3 15\n",
      "4 16\n",
      "5 17\n",
      "6 18\n",
      "7 19\n",
      "8 20\n",
      "9 21\n",
      "10 22\n",
      "11 23\n",
      "12 24\n",
      "13 25\n",
      "14 26\n",
      "15 27\n",
      "16 28\n",
      "17 29\n"
     ]
    }
   ],
   "source": [
    "arr = np.arange(12, 30)\n",
    "for idx,item in enumerate(arr):    # Starts with zero\n",
    "    print(idx,item)"
   ]
  },
  {
   "cell_type": "code",
   "execution_count": 49,
   "metadata": {},
   "outputs": [
    {
     "name": "stdout",
     "output_type": "stream",
     "text": [
      "[[1 2]\n",
      " [3 4]]\n"
     ]
    }
   ],
   "source": [
    "## Linear algebra with Numpy\n",
    "mat = np.array([[1,2], [3,4]])\n",
    "print(mat)"
   ]
  },
  {
   "cell_type": "code",
   "execution_count": 50,
   "metadata": {},
   "outputs": [
    {
     "name": "stdout",
     "output_type": "stream",
     "text": [
      "-2.0000000000000004\n"
     ]
    }
   ],
   "source": [
    "# Find the determinant \n",
    "print(np.linalg.det(mat))"
   ]
  },
  {
   "cell_type": "code",
   "execution_count": 51,
   "metadata": {},
   "outputs": [
    {
     "name": "stdout",
     "output_type": "stream",
     "text": [
      "[[-2.   1. ]\n",
      " [ 1.5 -0.5]]\n"
     ]
    }
   ],
   "source": [
    "# Find the inverse\n",
    "print(np.linalg.inv(mat))"
   ]
  },
  {
   "cell_type": "code",
   "execution_count": 52,
   "metadata": {},
   "outputs": [
    {
     "name": "stdout",
     "output_type": "stream",
     "text": [
      "[[1 3]\n",
      " [2 4]]\n"
     ]
    }
   ],
   "source": [
    "# Find the transpose\n",
    "print(np.transpose(mat))"
   ]
  },
  {
   "cell_type": "code",
   "execution_count": 53,
   "metadata": {},
   "outputs": [
    {
     "name": "stdout",
     "output_type": "stream",
     "text": [
      "5\n"
     ]
    }
   ],
   "source": [
    "# Diagonal addition\n",
    "print(np.trace(mat))"
   ]
  },
  {
   "cell_type": "code",
   "execution_count": 54,
   "metadata": {},
   "outputs": [
    {
     "name": "stdout",
     "output_type": "stream",
     "text": [
      "[[ 1  4]\n",
      " [ 9 16]]\n"
     ]
    }
   ],
   "source": [
    "# Matrix multiplication\n",
    "# Element by element multiplication\n",
    "arr1 = np.array([[1,2],[3,4]])\n",
    "arr2 = np.array([[1,2],[3,4]])\n",
    "print(arr1 * arr2)\n",
    "# same goes to other arithmatic operation"
   ]
  },
  {
   "cell_type": "code",
   "execution_count": 55,
   "metadata": {},
   "outputs": [
    {
     "name": "stdout",
     "output_type": "stream",
     "text": [
      "[[ 7 10]\n",
      " [15 22]]\n"
     ]
    }
   ],
   "source": [
    "# True real multiplication\n",
    "print(arr1.dot(arr2))"
   ]
  },
  {
   "cell_type": "code",
   "execution_count": 56,
   "metadata": {},
   "outputs": [
    {
     "name": "stdout",
     "output_type": "stream",
     "text": [
      "[-1.  3.]\n"
     ]
    }
   ],
   "source": [
    "# Solve equation\n",
    "#2x + y = 1\n",
    "#x + y = 2\n",
    "\n",
    "m = np.array([[2,1], [1,1]])\n",
    "n = np.array([1,2])\n",
    "\n",
    "print(np.linalg.solve(m,n))"
   ]
  },
  {
   "cell_type": "code",
   "execution_count": 57,
   "metadata": {},
   "outputs": [
    {
     "name": "stdout",
     "output_type": "stream",
     "text": [
      "[-0.37228132  5.37228132]\n",
      "[[-0.82456484 -0.41597356]\n",
      " [ 0.56576746 -0.90937671]]\n"
     ]
    }
   ],
   "source": [
    "#ign value and ign vector\n",
    "# Eigen vector and Eigen value are use to reduce noise in data. They also help to improve\n",
    "# efficiency of computataionally.\n",
    "# Eigen vectors makes understanding of linear transformation easy.\n",
    "# EE have their importance in linear differential equation.\n",
    "# We can find rate of change\n",
    "# We can maintain relationship between two variables\n",
    "# one eigenvalue and eigenvector are used to capture key information that is stored in a large matrix.\n",
    "# Equation\n",
    "# A * x = lambda * x\n",
    "# Where A is matrix and x is Evector and lambda is Evalue\n",
    "# Find the EValue\n",
    "# Determinant(A - lambda * I) = 0\n",
    "arr1 = np.array([[1,2],[3,4]])\n",
    "rigvalue, eigvector = np.linalg.eig(arr1)\n",
    "print(rigvalue)\n",
    "print(eigvector)\n",
    "# But what is eigen vector ana its actual use still now sure"
   ]
  },
  {
   "cell_type": "code",
   "execution_count": 58,
   "metadata": {},
   "outputs": [
    {
     "name": "stdout",
     "output_type": "stream",
     "text": [
      "[1, 4, 4.5, 'String', True]\n",
      "['1' '4' '4.5' 'String' 'True']\n"
     ]
    }
   ],
   "source": [
    "# List and Numpy array\n",
    "a = [1, 4, 4.5, 'String', True]\n",
    "print(a)\n",
    "# List accept any type of element\n",
    "arr = np.array(a)\n",
    "print(arr)\n",
    "# Numpy accept homogeneous array as a element type\n",
    "# We can perform same operaations on each element of array because they are of same type.\n",
    "# But this is not true in case on list\n",
    "\n",
    "# When we create numpy array it occupies fix amount of memory but in case of list it is\n",
    "# dynamic in nature\n",
    "\n",
    "# Performance wise numpy array is fast"
   ]
  },
  {
   "cell_type": "code",
   "execution_count": 59,
   "metadata": {},
   "outputs": [
    {
     "name": "stdout",
     "output_type": "stream",
     "text": [
      "[1 2 3 4] [1 2 3 4]\n",
      "[10  2  3  4] [10  2  3  4]\n",
      "2435282472432 2435282472432\n",
      "[10  2  3  4]\n",
      "2435282470192\n",
      "[10  2 20  4] [10  2 20  4] [10  2 20  4]\n",
      "2435282472432 2435282416864\n",
      "[10  2 20  4] [10  2 20  4]\n",
      "[10  2 20  4] [10  2 20 40]\n"
     ]
    }
   ],
   "source": [
    "## Views and copy\n",
    "a = np.array([1,2,3,4])\n",
    "b = a     # Create views not a new array in memory\n",
    "print(a, b)\n",
    "a[0] = 10\n",
    "print(a, b)     # Omg both 0 values are changed\n",
    "\n",
    "# Lets check the memory address\n",
    "print(id(a), id(b))    # Both are same\n",
    "\n",
    "c = a.view()       # Address is changed but this memory address is pointing to same memory address\n",
    "print(c)\n",
    "print(id(c))\n",
    "\n",
    "c[2] = 20\n",
    "print(a, b, c)    # All changed\n",
    "\n",
    "d =  a.copy()   # Brand new memory numpy object\n",
    "print(id(a), id(d))\n",
    "print(a, d)\n",
    "d[3] = 40\n",
    "print(a, d)   # Only changed in d not in a"
   ]
  },
  {
   "cell_type": "code",
   "execution_count": 60,
   "metadata": {},
   "outputs": [
    {
     "name": "stdout",
     "output_type": "stream",
     "text": [
      "[10 11 12 13 14 15 16 17 18]\n",
      "[[10 11 12]\n",
      " [13 14 15]\n",
      " [16 17 18]]\n",
      "[[10 11 12]\n",
      " [13 14 15]\n",
      " [16 17 18]\n",
      " [19 20 30]]\n",
      "[[ 10  11  12 100]\n",
      " [ 13  14  15 100]\n",
      " [ 16  17  18 100]\n",
      " [ 19  20  30 100]]\n"
     ]
    }
   ],
   "source": [
    "# Reshape\n",
    "a = np.arange(10, 19)\n",
    "print(a)\n",
    "b = a.reshape(3,3)\n",
    "print(b)\n",
    "\n",
    "# Append at the end of row three in b array\n",
    "b = np.append(b , [[19, 20, 30]], axis = 0)\n",
    "print(b)\n",
    "b = np.append(b , [[100], [100], [100], [100]], axis = 1)\n",
    "print(b)"
   ]
  },
  {
   "cell_type": "code",
   "execution_count": 61,
   "metadata": {},
   "outputs": [
    {
     "name": "stdout",
     "output_type": "stream",
     "text": [
      "[10 11 12 13 14 15 16 17 18]\n"
     ]
    }
   ],
   "source": [
    "# Append\n",
    "np.append(a, [19, 20])   # It will not change\n",
    "print(a)"
   ]
  },
  {
   "cell_type": "code",
   "execution_count": 62,
   "metadata": {},
   "outputs": [
    {
     "name": "stdout",
     "output_type": "stream",
     "text": [
      "[10 11 12 13 14 15 16 17 18]\n",
      "[ 10 200  11  12  13  14  15  16  17  18]\n"
     ]
    }
   ],
   "source": [
    "# Insert\n",
    "a = np.arange(10, 19)\n",
    "print(a)\n",
    "print(np.insert(a, 1, 200))"
   ]
  },
  {
   "cell_type": "code",
   "execution_count": 63,
   "metadata": {},
   "outputs": [
    {
     "name": "stdout",
     "output_type": "stream",
     "text": [
      "[[  10   11   12]\n",
      " [-100 -100 -100]\n",
      " [  13   14   15]\n",
      " [  16   17   18]]\n",
      "[[  10 -100   11   12]\n",
      " [  13 -100   14   15]\n",
      " [  16 -100   17   18]]\n"
     ]
    }
   ],
   "source": [
    "b = a.reshape(3,3)\n",
    "# insert new row\n",
    "print(np.insert(b, 1, -100, axis = 0))    # New row\n",
    "print(np.insert(b, 1, -100, axis = 1))    # New column"
   ]
  },
  {
   "cell_type": "code",
   "execution_count": 64,
   "metadata": {},
   "outputs": [
    {
     "name": "stdout",
     "output_type": "stream",
     "text": [
      "[10 11 12 13 14 15 16 17 18]\n",
      "[10 11 13 14 15 16 17 18]\n",
      "[10 11 12 13 14 15 16 17 18]\n",
      "[[10 11 12]\n",
      " [13 14 15]\n",
      " [16 17 18]]\n",
      "[[10 11 12]\n",
      " [16 17 18]]\n"
     ]
    }
   ],
   "source": [
    "# Delete\n",
    "a = np.arange(10, 19)\n",
    "print(a)\n",
    "print(np.delete(a, 2))\n",
    "\n",
    "a = np.arange(10, 19)\n",
    "print(a)\n",
    "b = a.reshape(3,3)\n",
    "print(b)\n",
    "print(np.delete(b, 1, axis = 0))"
   ]
  },
  {
   "cell_type": "code",
   "execution_count": 65,
   "metadata": {},
   "outputs": [
    {
     "name": "stdout",
     "output_type": "stream",
     "text": [
      "0\n",
      "1\n",
      "2\n",
      "3\n",
      "4\n",
      "5\n",
      "6\n",
      "7\n",
      "8\n",
      "9\n"
     ]
    }
   ],
   "source": [
    "## nditer\n",
    "sam = np.arange(0,10)\n",
    "for x in np.nditer(sam):\n",
    "    print(x)"
   ]
  },
  {
   "cell_type": "code",
   "execution_count": 66,
   "metadata": {},
   "outputs": [
    {
     "name": "stdout",
     "output_type": "stream",
     "text": [
      "(0,) 0\n",
      "(1,) 1\n",
      "(2,) 2\n",
      "(3,) 3\n",
      "(4,) 4\n",
      "(5,) 5\n",
      "(6,) 6\n",
      "(7,) 7\n",
      "(8,) 8\n",
      "(9,) 9\n"
     ]
    }
   ],
   "source": [
    "## ndenumerate\n",
    "sam = np.arange(0,10)\n",
    "for idx, x in np.ndenumerate(sam):\n",
    "    print(idx, x)"
   ]
  },
  {
   "cell_type": "code",
   "execution_count": 67,
   "metadata": {},
   "outputs": [
    {
     "name": "stdout",
     "output_type": "stream",
     "text": [
      "[[ 0  1  2  3  4  5]\n",
      " [ 6  7  8  9 10 11]\n",
      " [12 13 14 15 16 17]\n",
      " [18 19 20 21 22 23]]\n"
     ]
    }
   ],
   "source": [
    "# Split\n",
    "a = np.arange(24).reshape(4,6)\n",
    "print(a)"
   ]
  },
  {
   "cell_type": "code",
   "execution_count": 68,
   "metadata": {},
   "outputs": [
    {
     "name": "stdout",
     "output_type": "stream",
     "text": [
      "[array([[ 0,  1,  2,  3,  4,  5],\n",
      "       [ 6,  7,  8,  9, 10, 11]]), array([[12, 13, 14, 15, 16, 17],\n",
      "       [18, 19, 20, 21, 22, 23]])]\n",
      "[[ 0  1  2  3  4  5]\n",
      " [ 6  7  8  9 10 11]]\n",
      "[[12 13 14 15 16 17]\n",
      " [18 19 20 21 22 23]]\n",
      "[array([[ 0,  1,  2],\n",
      "       [ 6,  7,  8],\n",
      "       [12, 13, 14],\n",
      "       [18, 19, 20]]), array([[ 3,  4,  5],\n",
      "       [ 9, 10, 11],\n",
      "       [15, 16, 17],\n",
      "       [21, 22, 23]])]\n",
      "[[ 0  1  2]\n",
      " [ 6  7  8]\n",
      " [12 13 14]\n",
      " [18 19 20]]\n",
      "[[ 3  4  5]\n",
      " [ 9 10 11]\n",
      " [15 16 17]\n",
      " [21 22 23]]\n"
     ]
    }
   ],
   "source": [
    "print(np.split(a, 2))\n",
    "first_arr = np.split(a, 2)[0]\n",
    "second_arr = np.split(a, 2)[1]\n",
    "print(first_arr)\n",
    "print(second_arr)\n",
    "\n",
    "print(np.split(a, 2, axis = 1))\n",
    "first_arr = np.split(a, 2, axis = 1)[0]\n",
    "second_arr = np.split(a, 2, axis = 1)[1]\n",
    "print(first_arr)\n",
    "print(second_arr)"
   ]
  },
  {
   "cell_type": "code",
   "execution_count": 69,
   "metadata": {},
   "outputs": [
    {
     "name": "stdout",
     "output_type": "stream",
     "text": [
      "[[ 0  1  2  3  4  5]\n",
      " [ 6  7  8  9 10 11]\n",
      " [12 13 14 15 16 17]\n",
      " [18 19 20 21 22 23]]\n",
      "[[ 0  1  2  3  4  5]\n",
      " [ 6  7  8  9 10 11]\n",
      " [12 13 14 15 16 17]\n",
      " [18 19 20 21 22 23]]\n",
      "[[ 0  1  2  3  4  5]\n",
      " [ 6  7  8  9 10 11]\n",
      " [12 13 14 15 16 17]\n",
      " [18 19 20 21 22 23]\n",
      " [ 0  1  2  3  4  5]\n",
      " [ 6  7  8  9 10 11]\n",
      " [12 13 14 15 16 17]\n",
      " [18 19 20 21 22 23]]\n",
      "[[ 0  1  2  3  4  5  0  1  2  3  4  5]\n",
      " [ 6  7  8  9 10 11  6  7  8  9 10 11]\n",
      " [12 13 14 15 16 17 12 13 14 15 16 17]\n",
      " [18 19 20 21 22 23 18 19 20 21 22 23]]\n"
     ]
    }
   ],
   "source": [
    "# Concatinate\n",
    "a = np.arange(24).reshape(4,6)\n",
    "print(a)\n",
    "b = np.arange(24).reshape(4,6)\n",
    "print(b)\n",
    "print(np.concatenate((a,b)))   # axis = 0\n",
    "print(np.concatenate((a,b), axis = 1))"
   ]
  },
  {
   "cell_type": "code",
   "execution_count": 70,
   "metadata": {},
   "outputs": [
    {
     "name": "stdout",
     "output_type": "stream",
     "text": [
      "[0 1 2 3 4 0 1 2 3 4 0 1 2 3 4]\n"
     ]
    }
   ],
   "source": [
    "# tile\n",
    "# what is difference between repeat and tile\n",
    "a = np.arange(5)\n",
    "print(np.tile(a, 3))"
   ]
  },
  {
   "cell_type": "code",
   "execution_count": 71,
   "metadata": {},
   "outputs": [
    {
     "name": "stdout",
     "output_type": "stream",
     "text": [
      "[[0 1 2 3 0 1 2 3]\n",
      " [4 5 6 7 4 5 6 7]]\n",
      "[[0 1 2 3]\n",
      " [4 5 6 7]\n",
      " [0 1 2 3]\n",
      " [4 5 6 7]]\n",
      "[[0 1 2 3 0 1 2 3]\n",
      " [4 5 6 7 4 5 6 7]\n",
      " [0 1 2 3 0 1 2 3]\n",
      " [4 5 6 7 4 5 6 7]]\n"
     ]
    }
   ],
   "source": [
    "a = np.arange(8).reshape(2,4)\n",
    "print(np.tile(a, 2))\n",
    "print(np.tile(a, (2,1)))   # 2 rows 1 column\n",
    "print(np.tile(a, (2,2)))   # 2 rows 2 column"
   ]
  },
  {
   "cell_type": "code",
   "execution_count": 72,
   "metadata": {},
   "outputs": [
    {
     "name": "stdout",
     "output_type": "stream",
     "text": [
      "[0 0 1 1 2 2 3 3 4 4]\n",
      "[[0 1 2 3]\n",
      " [0 1 2 3]\n",
      " [4 5 6 7]\n",
      " [4 5 6 7]]\n",
      "[[0 0 1 1 2 2 3 3]\n",
      " [4 4 5 5 6 6 7 7]]\n"
     ]
    }
   ],
   "source": [
    "# Repeat\n",
    "# Here every element get replicated\n",
    "a = np.arange(5)\n",
    "print(np.repeat(a, 2))\n",
    "\n",
    "a = np.arange(8).reshape(2,4)\n",
    "print(np.repeat(a, 2, axis = 0))\n",
    "print(np.repeat(a, 2, axis = 1))"
   ]
  },
  {
   "cell_type": "code",
   "execution_count": null,
   "metadata": {},
   "outputs": [],
   "source": []
  },
  {
   "cell_type": "code",
   "execution_count": null,
   "metadata": {},
   "outputs": [],
   "source": []
  },
  {
   "cell_type": "code",
   "execution_count": null,
   "metadata": {},
   "outputs": [],
   "source": []
  },
  {
   "cell_type": "code",
   "execution_count": null,
   "metadata": {},
   "outputs": [],
   "source": []
  }
 ],
 "metadata": {
  "kernelspec": {
   "display_name": "Python 3",
   "language": "python",
   "name": "python3"
  },
  "language_info": {
   "codemirror_mode": {
    "name": "ipython",
    "version": 3
   },
   "file_extension": ".py",
   "mimetype": "text/x-python",
   "name": "python",
   "nbconvert_exporter": "python",
   "pygments_lexer": "ipython3",
   "version": "3.7.4"
  }
 },
 "nbformat": 4,
 "nbformat_minor": 2
}
